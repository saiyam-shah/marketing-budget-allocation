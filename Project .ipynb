{
 "cells": [
  {
   "cell_type": "code",
   "execution_count": 1,
   "id": "b286bcdc",
   "metadata": {},
   "outputs": [],
   "source": [
    "import numpy as np\n",
    "import gurobipy as gp"
   ]
  },
  {
   "cell_type": "code",
   "execution_count": 2,
   "id": "1a0f9f63",
   "metadata": {},
   "outputs": [
    {
     "name": "stdout",
     "output_type": "stream",
     "text": [
      "Set parameter Username\n",
      "Academic license - for non-commercial use only - expires 2024-08-22\n"
     ]
    }
   ],
   "source": [
    "MarkMod = gp.Model()"
   ]
  },
  {
   "cell_type": "code",
   "execution_count": 3,
   "id": "4b1ab2f2",
   "metadata": {},
   "outputs": [],
   "source": [
    "Markx = MarkMod.addMVar(10)"
   ]
  },
  {
   "cell_type": "code",
   "execution_count": 4,
   "id": "94e1ed3e",
   "metadata": {},
   "outputs": [],
   "source": [
    "# Maximize\n",
    "MarkMod.setObjective(0.31*Markx[0] + 0.49*Markx[1] + 2.4*Markx[2] + 3.9*Markx[3] + \n",
    "                   1.6*Markx[4] + 2.4*Markx[5] + 4.6*Markx[6] + 2.6*Markx[7] +\n",
    "                   3.3*Markx[8] + 4.4*Markx[9] , sense=gp.GRB.MAXIMIZE)"
   ]
  },
  {
   "cell_type": "code",
   "execution_count": 5,
   "id": "2af97244",
   "metadata": {},
   "outputs": [],
   "source": [
    "#contraints\n",
    "conlist=[0]*13\n",
    "# then come back and change the list entries one by one to represent each constraint\n",
    "conlist[0] = MarkMod.addConstr(Markx[0] + Markx[1] + Markx[2] + Markx[3] + Markx[4] + Markx[5] + \n",
    "                               Markx[6] + Markx[7] + Markx[8] + Markx[9] <= 10)\n",
    "conlist[1] = MarkMod.addConstr(Markx[0] + Markx[1] <= Markx[4] + Markx[9])\n",
    "conlist[2] = MarkMod.addConstr(Markx[4] + Markx[5] + Markx[6] + Markx[7] + Markx[8] <=2*(Markx[2] + Markx[3]) )\n",
    "\n",
    "j=0\n",
    "for i in range(3,13):\n",
    "    conlist[i]=MarkMod.addConstr(Markx[j]<=3)\n",
    "    j+=1"
   ]
  },
  {
   "cell_type": "code",
   "execution_count": 7,
   "id": "01ec7d2c",
   "metadata": {},
   "outputs": [],
   "source": [
    "MarkMod.Params.OutputFlag = 0 # tell gurobi to shut up!!\n",
    "\n",
    "MarkMod.optimize() # solve the model"
   ]
  },
  {
   "cell_type": "code",
   "execution_count": 8,
   "id": "8361d134",
   "metadata": {
    "scrolled": true
   },
   "outputs": [
    {
     "data": {
      "text/plain": [
       "42.0"
      ]
     },
     "execution_count": 8,
     "metadata": {},
     "output_type": "execute_result"
    }
   ],
   "source": [
    "MarkMod.objVal"
   ]
  },
  {
   "cell_type": "code",
   "execution_count": 9,
   "id": "c9e5ca24",
   "metadata": {},
   "outputs": [
    {
     "data": {
      "text/plain": [
       "[0.0, 0.0, 0.0, 3.0, 0.0, 0.0, 3.0, 0.0, 1.0, 3.0]"
      ]
     },
     "execution_count": 9,
     "metadata": {},
     "output_type": "execute_result"
    }
   ],
   "source": [
    "MarkMod.x"
   ]
  },
  {
   "cell_type": "code",
   "execution_count": 10,
   "id": "e99a19b9",
   "metadata": {},
   "outputs": [],
   "source": [
    "#Q4 maximize\n",
    "MarkMod.setObjective(4.9*Markx[0] + 2.3*Markx[1] + 2.4*Markx[2] + 3.9*Markx[3] + \n",
    "                   4.4*Markx[4] + 4.6*Markx[5] + 2.6*Markx[6] + 1.9*Markx[7] +\n",
    "                   3.7*Markx[8] + 2.6*Markx[9] , sense=gp.GRB.MAXIMIZE)"
   ]
  },
  {
   "cell_type": "code",
   "execution_count": 11,
   "id": "0c9adf7a",
   "metadata": {},
   "outputs": [],
   "source": [
    "MarkMod.Params.OutputFlag = 0 # tell gurobi to shut up!!\n",
    "\n",
    "MarkMod.optimize() # solve the model"
   ]
  },
  {
   "cell_type": "code",
   "execution_count": 12,
   "id": "eaa2d9d1",
   "metadata": {
    "scrolled": true
   },
   "outputs": [
    {
     "data": {
      "text/plain": [
       "44.666666666666664"
      ]
     },
     "execution_count": 12,
     "metadata": {},
     "output_type": "execute_result"
    }
   ],
   "source": [
    "MarkMod.objVal"
   ]
  },
  {
   "cell_type": "code",
   "execution_count": 13,
   "id": "9ff8f008",
   "metadata": {},
   "outputs": [
    {
     "data": {
      "text/plain": [
       "[3.0,\n",
       " 0.0,\n",
       " 0.0,\n",
       " 2.3333333333333335,\n",
       " 3.0,\n",
       " 1.6666666666666667,\n",
       " 0.0,\n",
       " 0.0,\n",
       " 0.0,\n",
       " 0.0]"
      ]
     },
     "execution_count": 13,
     "metadata": {},
     "output_type": "execute_result"
    }
   ],
   "source": [
    "MarkMod.x"
   ]
  },
  {
   "cell_type": "code",
   "execution_count": null,
   "id": "1f1fbb7d",
   "metadata": {},
   "outputs": [],
   "source": []
  }
 ],
 "metadata": {
  "kernelspec": {
   "display_name": "Python 3 (ipykernel)",
   "language": "python",
   "name": "python3"
  },
  "language_info": {
   "codemirror_mode": {
    "name": "ipython",
    "version": 3
   },
   "file_extension": ".py",
   "mimetype": "text/x-python",
   "name": "python",
   "nbconvert_exporter": "python",
   "pygments_lexer": "ipython3",
   "version": "3.10.9"
  }
 },
 "nbformat": 4,
 "nbformat_minor": 5
}
