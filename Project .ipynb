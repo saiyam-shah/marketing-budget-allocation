{
 "cells": [
  {
   "cell_type": "code",
   "execution_count": 31,
   "id": "b286bcdc",
   "metadata": {},
   "outputs": [],
   "source": [
    "import numpy as np\n",
    "import gurobipy as gp"
   ]
  },
  {
   "cell_type": "code",
   "execution_count": 32,
   "id": "1a0f9f63",
   "metadata": {},
   "outputs": [],
   "source": [
    "MarkMod = gp.Model()"
   ]
  },
  {
   "cell_type": "code",
   "execution_count": 33,
   "id": "4b1ab2f2",
   "metadata": {},
   "outputs": [],
   "source": [
    "Markx = MarkMod.addMVar(10)"
   ]
  },
  {
   "cell_type": "code",
   "execution_count": 34,
   "id": "94e1ed3e",
   "metadata": {},
   "outputs": [],
   "source": [
    "# Maximize\n",
    "MarkMod.setObjective(0.031*Markx[0] + 0.049*Markx[1] + 0.024*Markx[2] + 0.039*Markx[3] + \n",
    "                   0.016*Markx[4] + 0.024*Markx[5] + 0.046*Markx[6] + 0.026*Markx[7] +\n",
    "                   0.033*Markx[8] + 0.044*Markx[9] , sense=gp.GRB.MAXIMIZE)"
   ]
  },
  {
   "cell_type": "code",
   "execution_count": 35,
   "id": "2af97244",
   "metadata": {},
   "outputs": [],
   "source": [
    "#contraints\n",
    "conlist=[0]*13\n",
    "# then come back and change the list entries one by one to represent each constraint\n",
    "conlist[0] = MarkMod.addConstr(Markx[0] + Markx[1] + Markx[2] + Markx[3] + Markx[4] + Markx[5] + \n",
    "                               Markx[6] + Markx[7] + Markx[8] + Markx[9] <= 10000000)\n",
    "conlist[1] = MarkMod.addConstr(Markx[0] + Markx[1] <= Markx[4] + Markx[9])\n",
    "conlist[2] = MarkMod.addConstr(Markx[4] + Markx[5] + Markx[6] + Markx[7] + Markx[8] <= 2*(Markx[2] + Markx[3]))\n",
    "\n",
    "j=0\n",
    "for i in range(3,13):\n",
    "    conlist[i]=MarkMod.addConstr(Markx[j]<=3000000)\n",
    "    j+=1"
   ]
  },
  {
   "cell_type": "code",
   "execution_count": 36,
   "id": "01ec7d2c",
   "metadata": {},
   "outputs": [],
   "source": [
    "MarkMod.Params.OutputFlag = 0 #tell gurobi to shut up!!\n",
    "\n",
    "MarkMod.optimize() #solve the model"
   ]
  },
  {
   "cell_type": "code",
   "execution_count": 37,
   "id": "8361d134",
   "metadata": {
    "scrolled": false
   },
   "outputs": [
    {
     "data": {
      "text/plain": [
       "453666.6666666667"
      ]
     },
     "execution_count": 37,
     "metadata": {},
     "output_type": "execute_result"
    }
   ],
   "source": [
    "MarkMod.objVal"
   ]
  },
  {
   "cell_type": "code",
   "execution_count": 38,
   "id": "d175e5e1",
   "metadata": {},
   "outputs": [
    {
     "data": {
      "text/plain": [
       "[0.0,\n",
       " 3000000.0,\n",
       " 0.0,\n",
       " 1333333.3333333333,\n",
       " 0.0,\n",
       " 0.0,\n",
       " 2666666.666666667,\n",
       " 0.0,\n",
       " 0.0,\n",
       " 3000000.0]"
      ]
     },
     "execution_count": 38,
     "metadata": {},
     "output_type": "execute_result"
    }
   ],
   "source": [
    "MarkMod.x"
   ]
  },
  {
   "cell_type": "code",
   "execution_count": 28,
   "id": "8c19e714",
   "metadata": {},
   "outputs": [],
   "source": [
    "#Q4 maximize\n",
    "MarkMod.setObjective(0.049*Markx[0] + 0.023*Markx[1] + 0.024*Markx[2] + 0.039*Markx[3] + \n",
    "                   0.044*Markx[4] + 0.046*Markx[5] + 0.026*Markx[6] + 0.019*Markx[7] +\n",
    "                   0.037*Markx[8] + 0.026*Markx[9] , sense=gp.GRB.MAXIMIZE)"
   ]
  },
  {
   "cell_type": "code",
   "execution_count": 29,
   "id": "08e66b07",
   "metadata": {},
   "outputs": [],
   "source": [
    "MarkMod.Params.OutputFlag = 0 # tell gurobi to shut up!!\n",
    "\n",
    "MarkMod.optimize() # solve the model"
   ]
  },
  {
   "cell_type": "code",
   "execution_count": 30,
   "id": "f140acb5",
   "metadata": {
    "scrolled": true
   },
   "outputs": [
    {
     "data": {
      "text/plain": [
       "44666.666666666664"
      ]
     },
     "execution_count": 30,
     "metadata": {},
     "output_type": "execute_result"
    }
   ],
   "source": [
    "MarkMod.objVal"
   ]
  },
  {
   "cell_type": "code",
   "execution_count": 12,
   "id": "8a44741a",
   "metadata": {},
   "outputs": [
    {
     "data": {
      "text/plain": [
       "[3.0,\n",
       " 0.0,\n",
       " 0.0,\n",
       " 2.3333333333333335,\n",
       " 3.0,\n",
       " 1.6666666666666665,\n",
       " 0.0,\n",
       " 0.0,\n",
       " 0.0,\n",
       " 0.0]"
      ]
     },
     "execution_count": 12,
     "metadata": {},
     "output_type": "execute_result"
    }
   ],
   "source": [
    "MarkMod.x"
   ]
  },
  {
   "cell_type": "code",
   "execution_count": null,
   "id": "ff23bc46",
   "metadata": {},
   "outputs": [],
   "source": []
  }
 ],
 "metadata": {
  "kernelspec": {
   "display_name": "Python 3 (ipykernel)",
   "language": "python",
   "name": "python3"
  },
  "language_info": {
   "codemirror_mode": {
    "name": "ipython",
    "version": 3
   },
   "file_extension": ".py",
   "mimetype": "text/x-python",
   "name": "python",
   "nbconvert_exporter": "python",
   "pygments_lexer": "ipython3",
   "version": "3.10.9"
  }
 },
 "nbformat": 4,
 "nbformat_minor": 5
}
